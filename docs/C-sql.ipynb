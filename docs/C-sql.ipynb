{
 "cells": [
  {
   "cell_type": "code",
   "execution_count": null,
   "metadata": {},
   "outputs": [],
   "source": [
    "\n",
    "from sqlalchemy import create_engine\n",
    "import pymssql\n",
    "\n",
    "server = \"mssql-82792-0.cloudclusters.net:16272\"\n",
    "username = \"user\"\n",
    "password = \"RiceOwls1912\" \n",
    "database = \"ghz\"\n",
    "string = \"mssql+pymssql://\" + username + \":\" + password + \"@\" + server + \"/\" + database\n",
    "conn = create_engine(string).connect()\n",
    "\n",
    "import pandas as pd\n",
    "\n",
    "tables = pd.read_sql(\n",
    "    \"select * from information_schema.tables\",\n",
    "    conn\n",
    ")\n",
    "tables\n",
    "\n",
    "df = pd.read_sql(\n",
    "    \"select * from data where 1=2\",\n",
    "    conn\n",
    ")\n",
    "df\n",
    "\n",
    "df = pd.read_sql(\n",
    "    \"select top 2 * from variables\",\n",
    "    conn\n",
    ")\n",
    "\n",
    "\n",
    "df = pd.read_sql(\n",
    "    \"\"\"\n",
    "    select date, ticker, ret, roeq, mom12m\n",
    "    from data\n",
    "    where date>='2020-01' and date<='2021-12'\n",
    "    order by date, ticker\n",
    "    \"\"\", \n",
    "    conn\n",
    ")\n",
    "df.head(2)"
   ]
  }
 ],
 "metadata": {
  "kernelspec": {
   "display_name": "Python 3",
   "language": "python",
   "name": "python3"
  },
  "language_info": {
   "name": "python",
   "version": "3.10.8 (tags/v3.10.8:aaaf517, Oct 11 2022, 16:50:30) [MSC v.1933 64 bit (AMD64)]"
  },
  "orig_nbformat": 4,
  "vscode": {
   "interpreter": {
    "hash": "a98f34b6005ae2330f135078450db511ef8910ecc790235ef0560aa88aa6ce12"
   }
  }
 },
 "nbformat": 4,
 "nbformat_minor": 2
}
