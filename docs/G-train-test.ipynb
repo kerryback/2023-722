{
 "cells": [
  {
   "cell_type": "code",
   "execution_count": 4,
   "metadata": {},
   "outputs": [],
   "source": [
    "from sqlalchemy import create_engine\n",
    "import pymssql\n",
    "import pandas as pd\n",
    "\n",
    "server = \"mssql-82792-0.cloudclusters.net:16272\"\n",
    "username = \"user\"\n",
    "password = \"RiceOwls1912\" \n",
    "database = \"ghz\"\n",
    "string = \"mssql+pymssql://\" + username + \":\" + password + \"@\" + server + \"/\" + database\n",
    "conn = create_engine(string).connect()\n",
    "\n",
    "df = pd.read_sql(\n",
    "    \"\"\"\n",
    "    select date, ticker, ret, roeq, mom12m\n",
    "    from data\n",
    "    where date>='2010-01' and date<='2017-12'\n",
    "    order by date, ticker\n",
    "    \"\"\", \n",
    "    conn\n",
    ")\n",
    "df = df.dropna()\n",
    "df = df.set_index(\"date\")\n",
    "\n",
    "from pandas_datareader import DataReader as pdr\n",
    "\n",
    "mkt = pdr(\n",
    "  \"F-F_Research_Data_Factors\",\n",
    "  \"famafrench\",\n",
    "  start=\"2009-12\",\n",
    "  end=\"2017-12\"\n",
    ")\n",
    "\n",
    "mkt = mkt[0] / 100\n",
    "mkt.index = mkt.index.astype(str)\n",
    "mkt[\"mkt\"] = mkt[\"Mkt-RF\"] + mkt[\"RF\"]\n",
    "mkt[\"lagmkt\"] = mkt.mkt.shift()\n",
    "\n",
    "df = df.join(mkt, how=\"left\")"
   ]
  },
  {
   "cell_type": "code",
   "execution_count": 5,
   "metadata": {},
   "outputs": [],
   "source": [
    "from sklearn.preprocessing import QuantileTransformer\n",
    "from sklearn.compose import TransformedTargetRegressor\n",
    "from sklearn.linear_model import Ridge\n",
    "\n",
    "model = TransformedTargetRegressor(\n",
    "    transformer=QuantileTransformer(\n",
    "      output_distribution=\"normal\",\n",
    "      random_state=0\n",
    "    ),\n",
    "    regressor=Ridge(random_state=0)\n",
    ")\n",
    "\n",
    "from sklearn.preprocessing import PolynomialFeatures\n",
    "from sklearn.pipeline import make_pipeline\n",
    "\n",
    "pipe = make_pipeline(\n",
    "  QuantileTransformer(output_distribution=\"normal\", random_state=0),\n",
    "  PolynomialFeatures(degree=2),\n",
    "  QuantileTransformer(output_distribution=\"normal\", random_state=0),\n",
    "  model\n",
    ")"
   ]
  },
  {
   "cell_type": "code",
   "execution_count": 14,
   "metadata": {},
   "outputs": [],
   "source": [
    "from sklearn.metrics import make_scorer\n",
    "from sklearn.model_selection import GridSearchCV\n",
    "from scipy.stats import spearmanr\n",
    "\n",
    "spearman = make_scorer(\n",
    "    lambda y1, y2 : spearmanr(y1, y2)[0]\n",
    ")\n",
    "\n",
    "param_grid = {\n",
    "    \"transformedtargetregressor__regressor__alpha\": [0.01, 0.1, 1]\n",
    "}\n",
    "\n",
    "cv = GridSearchCV(\n",
    "    pipe, \n",
    "    param_grid=param_grid,\n",
    "    scoring=spearman,\n",
    "    \n",
    ")\n",
    "\n",
    "X = df[[\"roeq\", \"mom12m\", \"lagmkt\"]]\n",
    "y = df.ret - df.mkt\n",
    "_ = cv.fit(X, y)"
   ]
  },
  {
   "cell_type": "code",
   "execution_count": 15,
   "metadata": {},
   "outputs": [
    {
     "data": {
      "text/plain": [
       "0.07608450534420176"
      ]
     },
     "execution_count": 15,
     "metadata": {},
     "output_type": "execute_result"
    }
   ],
   "source": [
    "cv.score(X, y)"
   ]
  },
  {
   "cell_type": "code",
   "execution_count": 16,
   "metadata": {},
   "outputs": [
    {
     "data": {
      "text/plain": [
       "{'transformedtargetregressor__regressor__alpha': 0.1}"
      ]
     },
     "execution_count": 16,
     "metadata": {},
     "output_type": "execute_result"
    }
   ],
   "source": [
    "cv.best_params_"
   ]
  },
  {
   "cell_type": "code",
   "execution_count": 18,
   "metadata": {},
   "outputs": [],
   "source": [
    "model = TransformedTargetRegressor(\n",
    "    transformer=QuantileTransformer(\n",
    "      output_distribution=\"normal\",\n",
    "      random_state=0\n",
    "    ),\n",
    "    regressor=Ridge(random_state=0, alpha=0.1)\n",
    ")\n",
    "\n",
    "from sklearn.preprocessing import PolynomialFeatures\n",
    "from sklearn.pipeline import make_pipeline\n",
    "\n",
    "pipe = make_pipeline(\n",
    "  QuantileTransformer(output_distribution=\"normal\", random_state=0),\n",
    "  PolynomialFeatures(degree=2),\n",
    "  QuantileTransformer(output_distribution=\"normal\", random_state=0),\n",
    "  model\n",
    ")\n",
    "\n",
    "_ = pipe.fit(X, y)\n"
   ]
  },
  {
   "cell_type": "code",
   "execution_count": 21,
   "metadata": {},
   "outputs": [
    {
     "data": {
      "text/plain": [
       "-0.0009009483197663926"
      ]
     },
     "execution_count": 21,
     "metadata": {},
     "output_type": "execute_result"
    }
   ],
   "source": [
    "pipe.score(X, y)"
   ]
  },
  {
   "cell_type": "code",
   "execution_count": null,
   "metadata": {},
   "outputs": [],
   "source": []
  }
 ],
 "metadata": {
  "kernelspec": {
   "display_name": "Python 3",
   "language": "python",
   "name": "python3"
  },
  "language_info": {
   "codemirror_mode": {
    "name": "ipython",
    "version": 3
   },
   "file_extension": ".py",
   "mimetype": "text/x-python",
   "name": "python",
   "nbconvert_exporter": "python",
   "pygments_lexer": "ipython3",
   "version": "3.10.8"
  },
  "orig_nbformat": 4,
  "vscode": {
   "interpreter": {
    "hash": "a98f34b6005ae2330f135078450db511ef8910ecc790235ef0560aa88aa6ce12"
   }
  }
 },
 "nbformat": 4,
 "nbformat_minor": 2
}
