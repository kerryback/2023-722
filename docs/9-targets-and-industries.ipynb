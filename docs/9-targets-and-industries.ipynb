{
 "cells": [
  {
   "cell_type": "markdown",
   "metadata": {},
   "source": [
    "<a href=\"https://colab.research.google.com/github/kerryback/2022-638-binder/blob/main/9-targets-and-industries.ipynb\" target=\"_parent\"><img src=\"https://colab.research.google.com/assets/colab-badge.svg\" alt=\"Open In Colab\"/></a>"
   ]
  },
  {
   "cell_type": "code",
   "execution_count": 2,
   "metadata": {},
   "outputs": [
    {
     "name": "stdout",
     "output_type": "stream",
     "text": [
      "Requirement already satisfied: pymssql in c:\\users\\keb7\\appdata\\local\\programs\\python\\python310\\lib\\site-packages (2.2.5)\n"
     ]
    },
    {
     "name": "stderr",
     "output_type": "stream",
     "text": [
      "\n",
      "[notice] A new release of pip available: 22.2.2 -> 22.3.1\n",
      "[notice] To update, run: python.exe -m pip install --upgrade pip\n"
     ]
    },
    {
     "name": "stdout",
     "output_type": "stream",
     "text": [
      "Collecting sqlalchemy\n",
      "  Downloading SQLAlchemy-1.4.44-cp310-cp310-win_amd64.whl (1.6 MB)\n",
      "     ---------------------------------------- 1.6/1.6 MB 50.5 MB/s eta 0:00:00\n",
      "Collecting greenlet!=0.4.17\n",
      "  Downloading greenlet-2.0.1-cp310-cp310-win_amd64.whl (190 kB)\n",
      "     ---------------------------------------- 190.9/190.9 kB ? eta 0:00:00\n",
      "Installing collected packages: greenlet, sqlalchemy\n",
      "Successfully installed greenlet-2.0.1 sqlalchemy-1.4.44\n"
     ]
    },
    {
     "name": "stderr",
     "output_type": "stream",
     "text": [
      "\n",
      "[notice] A new release of pip available: 22.2.2 -> 22.3.1\n",
      "[notice] To update, run: python.exe -m pip install --upgrade pip\n"
     ]
    }
   ],
   "source": [
    "!pip install pymssql"
   ]
  },
  {
   "cell_type": "code",
   "execution_count": 3,
   "metadata": {},
   "outputs": [],
   "source": [
    "from sqlalchemy import create_engine\n",
    "import pymssql\n",
    "import pandas as pd\n",
    "from sklearn.model_selection import GridSearchCV\n",
    "from sklearn.preprocessing import QuantileTransformer\n",
    "from sklearn.ensemble import RandomForestRegressor\n",
    "from sklearn.preprocessing import PolynomialFeatures\n",
    "from sklearn.pipeline import make_pipeline\n",
    "from joblib import dump\n",
    "\n",
    "from sklearn.preprocessing import OneHotEncoder\n",
    "from sklearn.compose import make_column_transformer\n",
    "from sklearn.compose import TransformedTargetRegressor"
   ]
  },
  {
   "cell_type": "code",
   "execution_count": 4,
   "metadata": {},
   "outputs": [],
   "source": [
    "server = \"mssql-82792-0.cloudclusters.net:16272\"\n",
    "username = \"user\"\n",
    "password = \"RiceOwls1912\" # paste password between quote marks\n",
    "database = \"ghz\"\n",
    "\n",
    "string = \"mssql+pymssql://\" + username + \":\" + password + \"@\" + server + \"/\" + database\n",
    "\n",
    "conn = create_engine(string).connect()"
   ]
  },
  {
   "cell_type": "markdown",
   "metadata": {},
   "source": [
    "### Transforming target"
   ]
  },
  {
   "cell_type": "code",
   "execution_count": 5,
   "metadata": {},
   "outputs": [],
   "source": [
    "data = pd.read_sql(\n",
    "    \"\"\"\n",
    "    select ticker, date, ret, roeq, mom12m\n",
    "    from data\n",
    "    where date='2021-12'\n",
    "    \"\"\", \n",
    "    conn\n",
    ")\n",
    "data = data.dropna()"
   ]
  },
  {
   "cell_type": "code",
   "execution_count": 7,
   "metadata": {},
   "outputs": [
    {
     "data": {
      "text/plain": [
       "0.10282019584138602"
      ]
     },
     "execution_count": 7,
     "metadata": {},
     "output_type": "execute_result"
    }
   ],
   "source": [
    "transform1 = QuantileTransformer(\n",
    "    output_distribution=\"normal\"\n",
    ")\n",
    "\n",
    "transform2 = QuantileTransformer(\n",
    "    output_distribution=\"normal\"\n",
    ")\n",
    "\n",
    "transform3 = QuantileTransformer(\n",
    "    output_distribution=\"normal\"\n",
    ")\n",
    "\n",
    "poly = PolynomialFeatures(degree=2)\n",
    "\n",
    "model = TransformedTargetRegressor(\n",
    "    regressor=RandomForestRegressor(random_state=0),\n",
    "    transformer=transform3\n",
    ")\n",
    "\n",
    "pipe = make_pipeline(\n",
    "  transform1,\n",
    "  poly,\n",
    "  transform2,\n",
    "  model\n",
    ")\n",
    "\n",
    "param_grid = {\n",
    "    \"transformedtargetregressor__regressor__max_depth\": [3, 4, 5]\n",
    "}\n",
    "\n",
    "cv = GridSearchCV(\n",
    "  pipe, \n",
    "  param_grid=param_grid\n",
    ")\n",
    "\n",
    "X = data[[\"roeq\", \"mom12m\"]]\n",
    "y = data[\"ret\"]\n",
    "\n",
    "cv.fit(X, y)\n",
    "cv.score(X, y)"
   ]
  },
  {
   "cell_type": "markdown",
   "metadata": {},
   "source": [
    "### Industries"
   ]
  },
  {
   "cell_type": "code",
   "execution_count": 8,
   "metadata": {},
   "outputs": [],
   "source": [
    "data = pd.read_sql(\n",
    "    \"\"\"\n",
    "    select ticker, date, ret, roeq, mom12m, siccd\n",
    "    from data\n",
    "    where date='2021-12'\n",
    "    \"\"\", \n",
    "    conn\n",
    ")\n",
    "data = data.dropna()\n",
    "\n",
    "ff49 = pd.read_excel(\"files/ff49.xlsx\", index_col=0)\n",
    "def industry(sic):\n",
    "  try:\n",
    "    return ff49[(ff49.lower<=sic)&(sic<=ff49.upper)].index[0]\n",
    "  except:\n",
    "    return \"Almost Nothing\"\n",
    "    \n",
    "data[\"industry\"] = data.siccd.map(industry)\n",
    "\n",
    "data[\"roeqx\"] = data.groupby(\"industry\").roeq.transform(\n",
    "    lambda x: x - x.mean()\n",
    ")\n",
    "data[\"mom12mx\"] = data.groupby(\"industry\").mom12m.transform(\n",
    "    lambda x: x - x.mean()\n",
    ")\n",
    "data[\"mom12mi\"] = data.groupby(\"industry\").mom12m.transform(\"mean\")\n",
    "\n",
    "transform1 = QuantileTransformer(\n",
    "    output_distribution=\"normal\"\n",
    ")\n",
    "\n",
    "transform2 = QuantileTransformer(\n",
    "    output_distribution=\"normal\"\n",
    ")\n",
    "\n",
    "transform3 = QuantileTransformer(\n",
    "    output_distribution=\"normal\"\n",
    ")\n",
    "\n",
    "poly = PolynomialFeatures(degree=2)\n",
    "\n",
    "model = TransformedTargetRegressor(\n",
    "    regressor=RandomForestRegressor(random_state=0),\n",
    "    transformer=transform3\n",
    ")"
   ]
  },
  {
   "cell_type": "markdown",
   "metadata": {},
   "source": [
    "### Without dummies"
   ]
  },
  {
   "cell_type": "code",
   "execution_count": 9,
   "metadata": {},
   "outputs": [
    {
     "data": {
      "text/plain": [
       "0.14457511396868217"
      ]
     },
     "execution_count": 9,
     "metadata": {},
     "output_type": "execute_result"
    }
   ],
   "source": [
    "\n",
    "pipe = make_pipeline(\n",
    "  transform1,\n",
    "  poly,\n",
    "  transform2,\n",
    "  model\n",
    ")\n",
    "\n",
    "param_grid = {\n",
    "    \"transformedtargetregressor__regressor__max_depth\": [3, 4, 5]\n",
    "}\n",
    "\n",
    "cv = GridSearchCV(\n",
    "  pipe, \n",
    "  param_grid=param_grid\n",
    ")\n",
    "\n",
    "X = data[[\"roeq\", \"mom12m\", \"roeqx\", \"mom12mx\", \"mom12mi\"]]\n",
    "y = data[\"ret\"]\n",
    "\n",
    "cv.fit(X, y)\n"
   ]
  },
  {
   "cell_type": "markdown",
   "metadata": {},
   "source": [
    "### With dummies"
   ]
  },
  {
   "cell_type": "code",
   "execution_count": null,
   "metadata": {},
   "outputs": [],
   "source": [
    "numeric_transform = make_pipeline(\n",
    "  transform1,\n",
    "  poly,\n",
    "  transform2\n",
    ")\n",
    "\n",
    "category_transform = OneHotEncoder()\n",
    "\n",
    "feature_transform = make_column_transformer(\n",
    "  (numeric_transform, [\"roeq\", \"mom12m\", \"roeqx\", \"mom12mx\", \"mom12mi\"]),\n",
    "  (category_transform, [\"industry\"])\n",
    ")\n",
    "\n",
    "pipe = make_pipeline(\n",
    "  feature_transform,\n",
    "  model\n",
    ")\n",
    "\n",
    "param_grid = {\n",
    "    \"transformedtargetregressor__regressor__max_depth\": [3, 4, 5]\n",
    "}\n",
    "\n",
    "cv = GridSearchCV(\n",
    "  pipe, \n",
    "  param_grid=param_grid\n",
    ")\n",
    "\n",
    "X = data[[\"roeq\", \"mom12m\", \"roeqx\", \"mom12mx\", \"mom12mi\", \"industry\"]]\n",
    "y = data[\"ret\"]\n",
    "\n",
    "cv.fit(X, y)"
   ]
  }
 ],
 "metadata": {
  "kernelspec": {
   "display_name": "Python 3.10.7 64-bit",
   "language": "python",
   "name": "python3"
  },
  "language_info": {
   "codemirror_mode": {
    "name": "ipython",
    "version": 3
   },
   "file_extension": ".py",
   "mimetype": "text/x-python",
   "name": "python",
   "nbconvert_exporter": "python",
   "pygments_lexer": "ipython3",
   "version": "3.10.7"
  },
  "orig_nbformat": 4,
  "vscode": {
   "interpreter": {
    "hash": "fde46c13439050da17ff960cfbfb27519ac693264eff9f61b85b21506eee5af7"
   }
  }
 },
 "nbformat": 4,
 "nbformat_minor": 2
}
