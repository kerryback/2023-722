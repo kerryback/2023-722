{
 "cells": [
  {
   "cell_type": "code",
   "execution_count": 7,
   "metadata": {},
   "outputs": [],
   "source": [
    "from sqlalchemy import create_engine\n",
    "import pymssql\n",
    "import pandas as pd\n",
    "\n",
    "server = \"mssql-82792-0.cloudclusters.net:16272\"\n",
    "username = \"user\"\n",
    "password = \"RiceOwls1912\" \n",
    "database = \"ghz\"\n",
    "string = \"mssql+pymssql://\" + username + \":\" + password + \"@\" + server + \"/\" + database\n",
    "conn = create_engine(string).connect()\n",
    "\n",
    "test = pd.read_sql(\n",
    "    \"\"\"\n",
    "    select date, ticker, ret, roeq, mom12m\n",
    "    from data\n",
    "    where date>='2010-01' \n",
    "    order by date, ticker\n",
    "    \"\"\", \n",
    "    conn\n",
    ")\n",
    "test = test.dropna()\n",
    "\n",
    "from pandas_datareader import DataReader as pdr\n",
    "\n",
    "mkt = pdr(\n",
    "  \"F-F_Research_Data_Factors\",\n",
    "  \"famafrench\",\n",
    "  start=\"2009-12\",\n",
    ")\n",
    "\n",
    "mkt = mkt[0] / 100\n",
    "mkt.index = mkt.index.astype(str)\n",
    "mkt[\"mkt\"] = mkt[\"Mkt-RF\"] + mkt[\"RF\"]\n",
    "mkt[\"lagmkt\"] = mkt.mkt.shift()\n",
    "\n",
    "df = df.merge(mkt, left_on=\"date\", right_index=True, how=\"left\")\n",
    "train = df[df.date<=\"2017-12\"]\n",
    "test = df[df.date>\"2017-12\"].copy()"
   ]
  },
  {
   "cell_type": "code",
   "execution_count": 8,
   "metadata": {},
   "outputs": [],
   "source": [
    "from sklearn.preprocessing import QuantileTransformer\n",
    "from sklearn.compose import TransformedTargetRegressor\n",
    "from sklearn.linear_model import Ridge\n",
    "\n",
    "model = TransformedTargetRegressor(\n",
    "    transformer=QuantileTransformer(\n",
    "      output_distribution=\"normal\",\n",
    "      random_state=0\n",
    "    ),\n",
    "    regressor=Ridge(random_state=0)\n",
    ")\n",
    "\n",
    "from sklearn.preprocessing import PolynomialFeatures\n",
    "from sklearn.pipeline import make_pipeline\n",
    "\n",
    "pipe = make_pipeline(\n",
    "  QuantileTransformer(output_distribution=\"normal\", random_state=0),\n",
    "  PolynomialFeatures(degree=2),\n",
    "  QuantileTransformer(output_distribution=\"normal\", random_state=0),\n",
    "  model\n",
    ")"
   ]
  },
  {
   "cell_type": "code",
   "execution_count": 14,
   "metadata": {},
   "outputs": [],
   "source": [
    "from sklearn.metrics import make_scorer\n",
    "from sklearn.model_selection import GridSearchCV\n",
    "from scipy.stats import spearmanr\n",
    "\n",
    "spearman = make_scorer(\n",
    "    lambda y1, y2 : spearmanr(y1, y2)[0]\n",
    ")\n",
    "\n",
    "param_grid = {\n",
    "    \"transformedtargetregressor__regressor__alpha\": [0.01, 0.1, 1]\n",
    "}\n",
    "\n",
    "cv = GridSearchCV(\n",
    "    pipe, \n",
    "    param_grid=param_grid,\n",
    "    scoring=spearman,\n",
    "    \n",
    ")\n",
    "\n",
    "Xtrain = train[[\"roeq\", \"mom12m\", \"lagmkt\"]]\n",
    "ytrain = train.ret - train.mkt\n",
    "_ = cv.fit(Xtrain, ytrain)"
   ]
  },
  {
   "cell_type": "code",
   "execution_count": 15,
   "metadata": {},
   "outputs": [
    {
     "data": {
      "text/plain": [
       "0.07606199941872366"
      ]
     },
     "execution_count": 15,
     "metadata": {},
     "output_type": "execute_result"
    }
   ],
   "source": [
    "cv.score(Xtrain, ytrain)"
   ]
  },
  {
   "cell_type": "code",
   "execution_count": 16,
   "metadata": {},
   "outputs": [
    {
     "data": {
      "text/plain": [
       "0.029899619493245655"
      ]
     },
     "execution_count": 16,
     "metadata": {},
     "output_type": "execute_result"
    }
   ],
   "source": [
    "Xtest = test[[\"roeq\", \"mom12m\", \"lagmkt\"]]\n",
    "ytest = test.ret - test.mkt\n",
    "\n",
    "cv.score(Xtest, ytest)"
   ]
  },
  {
   "cell_type": "code",
   "execution_count": 17,
   "metadata": {},
   "outputs": [
    {
     "data": {
      "text/plain": [
       "{'transformedtargetregressor__regressor__alpha': 0.1}"
      ]
     },
     "execution_count": 17,
     "metadata": {},
     "output_type": "execute_result"
    }
   ],
   "source": [
    "cv.best_params_"
   ]
  },
  {
   "cell_type": "code",
   "execution_count": 24,
   "metadata": {},
   "outputs": [],
   "source": [
    "test = df[df.date>\"2017-12\"].copy()\n",
    "test[\"predict\"] = cv.predict(Xtest)\n",
    "\n",
    "num = 500\n",
    "\n",
    "test[\"rnk\"] = test.groupby(\"date\").predict.rank(method=\"first\", ascending=False)\n",
    "best = test[test.rnk<=num]\n",
    "test[\"rnk\"] = test.groupby(\"date\").predict.rank(method=\"first\")\n",
    "worst = test[test.rnk<=num]\n",
    "\n",
    "best_rets = best.groupby(\"date\").ret.mean()\n",
    "worst_rets = worst.groupby(\"date\").ret.mean()\n",
    "rets = pd.concat((best_rets, worst_rets), axis=1)\n",
    "rets.columns = [\"best\", \"worst\"]"
   ]
  },
  {
   "cell_type": "code",
   "execution_count": 25,
   "metadata": {},
   "outputs": [
    {
     "data": {
      "text/plain": [
       "best     0.011068\n",
       "worst    0.014230\n",
       "dtype: float64"
      ]
     },
     "execution_count": 25,
     "metadata": {},
     "output_type": "execute_result"
    }
   ],
   "source": [
    "rets.mean()"
   ]
  }
 ],
 "metadata": {
  "kernelspec": {
   "display_name": "Python 3",
   "language": "python",
   "name": "python3"
  },
  "language_info": {
   "codemirror_mode": {
    "name": "ipython",
    "version": 3
   },
   "file_extension": ".py",
   "mimetype": "text/x-python",
   "name": "python",
   "nbconvert_exporter": "python",
   "pygments_lexer": "ipython3",
   "version": "3.10.8"
  },
  "orig_nbformat": 4,
  "vscode": {
   "interpreter": {
    "hash": "a98f34b6005ae2330f135078450db511ef8910ecc790235ef0560aa88aa6ce12"
   }
  }
 },
 "nbformat": 4,
 "nbformat_minor": 2
}
