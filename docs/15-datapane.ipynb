{
 "cells": [
  {
   "cell_type": "code",
   "execution_count": 1,
   "metadata": {},
   "outputs": [],
   "source": [
    "from sqlalchemy import create_engine\n",
    "import pandas as pd\n",
    "from modules.backtest import cumplot, mvplot, regress\n",
    "import datapane as dp"
   ]
  },
  {
   "cell_type": "code",
   "execution_count": 2,
   "metadata": {},
   "outputs": [],
   "source": [
    "with create_engine(\"sqlite:///files/mydata.db\").connect() as conn:\n",
    "    rets = pd.read_sql(\"select * from model1\", conn)\n",
    "    rets[\"market\"] = pd.read_sql(\"select market from market\", conn)\n",
    "    rets[\"rf\"] = pd.read_sql(\"select rf from market\", conn)"
   ]
  },
  {
   "cell_type": "code",
   "execution_count": 3,
   "metadata": {},
   "outputs": [],
   "source": [
    "text = \"\"\"\n",
    "    The features are roeq and mom12m.  The feature pipeline is (QuantileTransformer, \n",
    "    PolynomialFeatures, QuantileTransformer).  The target is the return minus the\n",
    "    market return and ias transformed with QuantileTransformer.  Random forests with\n",
    "    max_depth=4 are trained at five-year intervals and used to predict monthly.  The best\n",
    "    and worst returns are the equally weighted returns of the top 100 and bottom 100 stocks\n",
    "    each month, respectively.\n",
    "\"\"\"\n",
    "\n",
    "figa = cumplot(rets)\n",
    "figb = mvplot(rets)\n",
    "tbla = regress(rets, \"best\")\n",
    "tblb = regress(rets, \"worst\")"
   ]
  },
  {
   "cell_type": "code",
   "execution_count": 11,
   "metadata": {},
   "outputs": [
    {
     "name": "stderr",
     "output_type": "stream",
     "text": [
      "c:\\Users\\kerry\\repos\\2022-638-binder\\venv\\lib\\site-packages\\datapane\\common\\df_processor.py:28: FutureWarning:\n",
      "\n",
      "pandas.Int64Index is deprecated and will be removed from pandas in a future version. Use pandas.Index with the appropriate dtype instead.\n",
      "\n"
     ]
    },
    {
     "data": {
      "text/markdown": [
       "App saved to ./files/dashboard.html"
      ],
      "text/plain": [
       "<IPython.core.display.Markdown object>"
      ]
     },
     "metadata": {},
     "output_type": "display_data"
    }
   ],
   "source": [
    "pg = dp.Page(\n",
    "    title=\"Random Forest\",\n",
    "    blocks = [\n",
    "        \"## Random Forest Model\",\n",
    "        \"Kerry Back, November 28, 2022\",\n",
    "        text,\n",
    "        dp.Select(\n",
    "            dp.Plot(\n",
    "                figa, \n",
    "                caption=\"Cumulative Returns\",\n",
    "                label=\"Cumulative returns\"\n",
    "            ),\n",
    "            dp.DataTable(\n",
    "                tbla, \n",
    "                caption=\"\"\"\n",
    "                    Regression of Best-RF on Mkt-RF.  The alpha estimate is\n",
    "                    in percent per year.\n",
    "                \"\"\",\n",
    "                label=\"Alpha and beta of best portfolio\"\n",
    "            ),\n",
    "            dp.DataTable(\n",
    "                tblb, \n",
    "                caption=\"\"\"\n",
    "                    Regression of Worst-RF on Mkt-RF.  The alpha estimate is\n",
    "                    in percent per year.\n",
    "                \"\"\",\n",
    "                label=\"Alpha and beta of worst portfolio\"\n",
    "            ),\n",
    "            dp.Plot(\n",
    "                figb, \n",
    "                caption=\"Mean-Variance Analysis\",\n",
    "                label=\"Mean-variance analysis\"\n",
    "            ),\n",
    "        ),\n",
    "    ]\n",
    ")\n",
    "\n",
    "app = dp.App(\n",
    "    pg,\n",
    ")\n",
    "app.save(\"files/dashboard.html\")\n"
   ]
  },
  {
   "cell_type": "markdown",
   "metadata": {},
   "source": [
    "If you want to create an html file with separate pages for different models, you can create each page as in the above and then use something like\n",
    "\n",
    "    app = dp.App(\n",
    "        pg1, \n",
    "        pg2,\n",
    "        pg3\n",
    "    )\n",
    "\n"
   ]
  },
  {
   "cell_type": "markdown",
   "metadata": {},
   "source": [
    "datapane.com will host your html file for free.  Just create an account, get your login token and add the following two lines to your notebook.  You will then get a link that you can share.\n",
    "\n",
    "    !datapane login --token=whateverYourTokenIs\n",
    "    app.upload(name=\"WhateverYouWantToCallIt\")"
   ]
  },
  {
   "cell_type": "code",
   "execution_count": 5,
   "metadata": {},
   "outputs": [],
   "source": [
    "# Example\n",
    "# \n",
    "# !datapane login --token=\n",
    "# app.upload(name=\"Investment Strategy Backtests\")"
   ]
  },
  {
   "cell_type": "code",
   "execution_count": null,
   "metadata": {},
   "outputs": [],
   "source": []
  }
 ],
 "metadata": {
  "kernelspec": {
   "display_name": "Python 3.10.8 ('venv': venv)",
   "language": "python",
   "name": "python3"
  },
  "language_info": {
   "codemirror_mode": {
    "name": "ipython",
    "version": 3
   },
   "file_extension": ".py",
   "mimetype": "text/x-python",
   "name": "python",
   "nbconvert_exporter": "python",
   "pygments_lexer": "ipython3",
   "version": "3.10.8"
  },
  "orig_nbformat": 4,
  "vscode": {
   "interpreter": {
    "hash": "b4698d42f8646fe93dd4243912c06191667cc35ff6930cd07513e2a757742af9"
   }
  }
 },
 "nbformat": 4,
 "nbformat_minor": 2
}
