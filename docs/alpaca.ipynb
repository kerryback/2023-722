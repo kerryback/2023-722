{
 "cells": [
  {
   "cell_type": "code",
   "execution_count": 2,
   "metadata": {},
   "outputs": [],
   "source": [
    "import alpaca_trade_api as tradeapi\n",
    "\n",
    "BASE_URL = \"https://paper-api.alpaca.markets\"\n",
    "ALPACA_API_KEY = \"PKMQGSUHZOO00DXK6KBH\"\n",
    "ALPACA_SECRET_KEY = \"KjfigF6dJv1G9ISfySP9qn9A50xeIsTZGLdtpfp6\"\n",
    "\n",
    "api = tradeapi.REST(\n",
    "    key_id=ALPACA_API_KEY, \n",
    "    secret_key=ALPACA_SECRET_KEY, \n",
    "    base_url=BASE_URL,\n",
    "    api_version='v2'\n",
    ")"
   ]
  }
 ],
 "metadata": {
  "kernelspec": {
   "display_name": "Python 3",
   "language": "python",
   "name": "python3"
  },
  "language_info": {
   "codemirror_mode": {
    "name": "ipython",
    "version": 3
   },
   "file_extension": ".py",
   "mimetype": "text/x-python",
   "name": "python",
   "nbconvert_exporter": "python",
   "pygments_lexer": "ipython3",
   "version": "3.10.8"
  },
  "orig_nbformat": 4,
  "vscode": {
   "interpreter": {
    "hash": "a98f34b6005ae2330f135078450db511ef8910ecc790235ef0560aa88aa6ce12"
   }
  }
 },
 "nbformat": 4,
 "nbformat_minor": 2
}
