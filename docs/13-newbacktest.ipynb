{
 "cells": [
  {
   "cell_type": "code",
   "execution_count": 8,
   "metadata": {},
   "outputs": [],
   "source": [
    "from sqlalchemy import create_engine\n",
    "import pymssql\n",
    "import pandas as pd\n",
    "from pandas_datareader import DataReader as pdr\n",
    "\n",
    "from sklearn.preprocessing import QuantileTransformer\n",
    "from sklearn.ensemble import RandomForestRegressor\n",
    "from sklearn.preprocessing import PolynomialFeatures\n",
    "from sklearn.pipeline import make_pipeline\n",
    "from sklearn.compose import TransformedTargetRegressor\n",
    "\n",
    "from modules.backtest import backtest, cumplot"
   ]
  },
  {
   "cell_type": "code",
   "execution_count": 9,
   "metadata": {},
   "outputs": [],
   "source": [
    "transform1 = QuantileTransformer(\n",
    "    output_distribution=\"normal\"\n",
    ")\n",
    "transform2 = QuantileTransformer(\n",
    "    output_distribution=\"normal\"\n",
    ")\n",
    "transform3 = QuantileTransformer(\n",
    "    output_distribution=\"normal\"\n",
    ")\n",
    "poly = PolynomialFeatures(degree=2)"
   ]
  },
  {
   "cell_type": "code",
   "execution_count": 10,
   "metadata": {},
   "outputs": [],
   "source": [
    "server = \"mssql-82792-0.cloudclusters.net:16272\"\n",
    "username = \"user\"\n",
    "password = \"RiceOwls1912\" # paste password between quote marks\n",
    "database = \"ghz\"\n",
    "string = \"mssql+pymssql://\" + username + \":\" + password + \"@\" + server + \"/\" + database\n",
    "conn = create_engine(string).connect()"
   ]
  },
  {
   "cell_type": "code",
   "execution_count": 11,
   "metadata": {},
   "outputs": [],
   "source": [
    "data = pd.read_sql(\n",
    "    \"\"\"\n",
    "    select ticker, date, ret, roeq, mom12m, siccd\n",
    "    from data\n",
    "    where date>='2000-01'\n",
    "    order by date, ticker\n",
    "    \"\"\", \n",
    "    conn\n",
    ")\n",
    "data = data.dropna()\n",
    "conn.close()\n",
    "\n",
    "factors = pdr(\"F-F_Research_Data_Factors\", \"famafrench\", start=2000)[0] / 100\n",
    "factors[\"date\"] = [str(d) for d in factors.index]\n",
    "factors[\"market\"] = factors[\"Mkt-RF\"] + factors[\"RF\"]\n",
    "data = data.merge(factors[[\"date\", \"market\"]], on=\"date\", how=\"left\")\n",
    "data[\"retx\"] = data.ret - data.market"
   ]
  },
  {
   "cell_type": "code",
   "execution_count": 19,
   "metadata": {},
   "outputs": [],
   "source": [
    "model = TransformedTargetRegressor(\n",
    "    regressor=RandomForestRegressor(random_state=0, max_depth=4),\n",
    "    transformer=transform3\n",
    ")\n",
    "\n",
    "pipe = make_pipeline(\n",
    "  transform1,\n",
    "  poly,\n",
    "  transform2,\n",
    "  model\n",
    ")\n",
    "\n",
    "rets = backtest(\n",
    "    data=data, \n",
    "    features=[\"roeq\", \"mom12m\"], \n",
    "    target=\"retx\", \n",
    "    pipe=pipe, \n",
    "    numstocks=100\n",
    ")\n",
    "\n",
    "with create_engine(\"sqlite:///files/mydata.db\").connect() as conn:\n",
    "    rets.to_sql(\"model1\", conn, if_exists=\"replace\")\n",
    "\n",
    "with pd.ExcelWriter(\"files/mydata.xlsx\", mode=\"a\", if_sheet_exists=\"replace\") as writer:\n",
    "    rets.to_excel(writer, sheet_name=\"model1\")  "
   ]
  }
 ],
 "metadata": {
  "kernelspec": {
   "display_name": "Python 3.10.7 ('venv': venv)",
   "language": "python",
   "name": "python3"
  },
  "language_info": {
   "codemirror_mode": {
    "name": "ipython",
    "version": 3
   },
   "file_extension": ".py",
   "mimetype": "text/x-python",
   "name": "python",
   "nbconvert_exporter": "python",
   "pygments_lexer": "ipython3",
   "version": "3.10.7"
  },
  "orig_nbformat": 4,
  "vscode": {
   "interpreter": {
    "hash": "1dc87ca166c10d8ffefef8f6d063bce62d82d4e4e5d60ec42f8acf5b65b22026"
   }
  }
 },
 "nbformat": 4,
 "nbformat_minor": 2
}
