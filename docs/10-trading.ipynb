{
 "cells": [
  {
   "cell_type": "code",
   "execution_count": 21,
   "metadata": {},
   "outputs": [],
   "source": [
    "import pandas as pd\n",
    "import numpy as np"
   ]
  },
  {
   "cell_type": "markdown",
   "metadata": {},
   "source": [
    "### Initial portfolio"
   ]
  },
  {
   "cell_type": "code",
   "execution_count": 22,
   "metadata": {},
   "outputs": [],
   "source": [
    "ranks = pd.read_excel(\"files/ranks0.xlsx\", index_col=0)\n",
    "ranks = ranks.squeeze()\n",
    "\n",
    "prices = pd.read_excel(\"files/prices0.xlsx\", index_col=0)\n",
    "prices = prices.squeeze()\n",
    "\n",
    "equity = cash = 100000\n",
    "weight = 0.2\n",
    "\n",
    "buys = ranks<=5\n",
    "buyamounts = (weight*equity/prices).astype(int)\n",
    "\n",
    "trades = np.where(buys, buyamounts, 0)\n",
    "trades = pd.Series(trades, index=ranks.index)\n",
    "\n",
    "positions = trades\n",
    "cash -= (trades*prices).sum()"
   ]
  },
  {
   "cell_type": "markdown",
   "metadata": {},
   "source": [
    "### Update portfolio"
   ]
  },
  {
   "cell_type": "code",
   "execution_count": 23,
   "metadata": {},
   "outputs": [],
   "source": [
    "ranks = pd.read_excel(\"files/ranks1.xlsx\", index_col=0)\n",
    "ranks = ranks.squeeze()\n",
    "\n",
    "prices = pd.read_excel(\"files/prices1.xlsx\", index_col=0)\n",
    "prices = prices.squeeze()\n",
    "\n",
    "equity = cash + (positions*prices).sum()\n",
    "weights = (positions*prices) / equity\n",
    "\n",
    "sellall = (ranks>10) & (positions !=0)\n",
    "sellallamounts = positions\n",
    "sellsome = (ranks<=10) & (weights>0.2)\n",
    "sellsomeamounts = (equity*(weights-0.2)/prices).astype(int)\n",
    "\n",
    "trades = - np.where(sellall, sellallamounts, 0)\n",
    "trades -= np.where(sellsome, sellsomeamounts, 0)\n",
    "trades = pd.Series(trades, index=ranks.index)\n",
    "\n",
    "cash -= (trades*prices).sum()\n",
    "\n",
    "tickers = ranks[positions==0].sort_values().index.to_list()\n",
    "\n",
    "while cash >= 500:\n",
    "    tick = tickers.pop(0)\n",
    "    dollars = min(cash, weight*equity)\n",
    "    trades[tick] = int(dollars/prices[tick])\n",
    "    cash -= trades[tick]*prices[tick]\n",
    "\n",
    "\n",
    "positions += trades"
   ]
  }
 ],
 "metadata": {
  "kernelspec": {
   "display_name": "Python 3.10.8 64-bit",
   "language": "python",
   "name": "python3"
  },
  "language_info": {
   "codemirror_mode": {
    "name": "ipython",
    "version": 3
   },
   "file_extension": ".py",
   "mimetype": "text/x-python",
   "name": "python",
   "nbconvert_exporter": "python",
   "pygments_lexer": "ipython3",
   "version": "3.10.8"
  },
  "orig_nbformat": 4,
  "vscode": {
   "interpreter": {
    "hash": "a98f34b6005ae2330f135078450db511ef8910ecc790235ef0560aa88aa6ce12"
   }
  }
 },
 "nbformat": 4,
 "nbformat_minor": 2
}
