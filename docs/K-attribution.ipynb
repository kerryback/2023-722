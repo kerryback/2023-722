{
 "cells": [
  {
   "cell_type": "code",
   "execution_count": 22,
   "metadata": {},
   "outputs": [],
   "source": [
    "from sqlalchemy import create_engine\n",
    "import pymssql\n",
    "import pandas as pd\n",
    "\n",
    "server = \"mssql-82792-0.cloudclusters.net:16272\"\n",
    "username = \"user\"\n",
    "password = \"RiceOwls1912\" \n",
    "database = \"ghz\"\n",
    "string = \"mssql+pymssql://\" + username + \":\" + password + \"@\" + server + \"/\" + database\n",
    "conn = create_engine(string).connect()\n",
    "\n",
    "df = pd.read_sql(\n",
    "    \"\"\"\n",
    "    select date, ticker, ret, roeq, mom12m\n",
    "    from data\n",
    "    where date>='2010-01' \n",
    "    order by date, ticker\n",
    "    \"\"\", \n",
    "    conn\n",
    ")\n",
    "df = df.dropna()\n",
    "\n",
    "from pandas_datareader import DataReader as pdr\n",
    "\n",
    "mkt = pdr(\n",
    "  \"F-F_Research_Data_Factors\",\n",
    "  \"famafrench\",\n",
    "  start=\"2009-12\",\n",
    ")\n",
    "\n",
    "mkt = mkt[0] / 100\n",
    "mkt.index = mkt.index.astype(str)\n",
    "mkt[\"mkt\"] = mkt[\"Mkt-RF\"] + mkt[\"RF\"]\n",
    "mkt[\"lagmkt\"] = mkt.mkt.shift()\n",
    "\n",
    "df = df.merge(mkt, left_on=\"date\", right_index=True, how=\"left\")\n",
    "train = df[df.date<=\"2020-12\"]\n",
    "test = df[df.date>\"2020-12\"].copy()"
   ]
  },
  {
   "cell_type": "code",
   "execution_count": 23,
   "metadata": {},
   "outputs": [],
   "source": [
    "from sklearn.preprocessing import QuantileTransformer\n",
    "from sklearn.compose import TransformedTargetRegressor\n",
    "from sklearn.ensemble import RandomForestRegressor\n",
    "\n",
    "model = TransformedTargetRegressor(\n",
    "    transformer=QuantileTransformer(\n",
    "      output_distribution=\"normal\",\n",
    "    ),\n",
    "    regressor=RandomForestRegressor()\n",
    ")\n",
    "\n",
    "from sklearn.preprocessing import PolynomialFeatures\n",
    "from sklearn.pipeline import make_pipeline\n",
    "\n",
    "pipe = make_pipeline(\n",
    "  QuantileTransformer(output_distribution=\"normal\", random_state=0),\n",
    "  PolynomialFeatures(degree=2),\n",
    "  QuantileTransformer(output_distribution=\"normal\", random_state=0),\n",
    "  model\n",
    ")"
   ]
  },
  {
   "cell_type": "code",
   "execution_count": 30,
   "metadata": {},
   "outputs": [],
   "source": [
    "from sklearn.metrics import make_scorer\n",
    "from sklearn.model_selection import GridSearchCV\n",
    "from scipy.stats import spearmanr\n",
    "\n",
    "scorer = make_scorer(\n",
    "    lambda y1, y2 : spearmanr(y1, y2)[0]\n",
    ")\n",
    "\n",
    "param_grid = {\n",
    "    \"transformedtargetregressor__regressor__max_depth\": [3, 4]\n",
    "}\n",
    "\n",
    "cv = GridSearchCV(\n",
    "    pipe, \n",
    "    param_grid=param_grid,\n",
    "    scoring=scorer,\n",
    "    cv=3,\n",
    "    n_jobs=4,\n",
    "    \n",
    ")\n",
    "\n",
    "Xtrain = train[[\"roeq\", \"mom12m\", \"lagmkt\"]]\n",
    "ytrain = train.ret - train.mkt\n",
    "_ = cv.fit(Xtrain, ytrain)"
   ]
  },
  {
   "cell_type": "code",
   "execution_count": 25,
   "metadata": {},
   "outputs": [
    {
     "data": {
      "text/plain": [
       "0.06852486922327844"
      ]
     },
     "execution_count": 25,
     "metadata": {},
     "output_type": "execute_result"
    }
   ],
   "source": [
    "cv.score(Xtrain, ytrain)"
   ]
  },
  {
   "cell_type": "code",
   "execution_count": 31,
   "metadata": {},
   "outputs": [
    {
     "data": {
      "text/plain": [
       "0.05379168115291726"
      ]
     },
     "execution_count": 31,
     "metadata": {},
     "output_type": "execute_result"
    }
   ],
   "source": [
    "Xtest = test[[\"roeq\", \"mom12m\", \"lagmkt\"]]\n",
    "ytest = test.ret - test.mkt\n",
    "\n",
    "cv.score(Xtest, ytest)"
   ]
  },
  {
   "cell_type": "code",
   "execution_count": 27,
   "metadata": {},
   "outputs": [
    {
     "data": {
      "text/plain": [
       "{'transformedtargetregressor__regressor__max_depth': 3}"
      ]
     },
     "execution_count": 27,
     "metadata": {},
     "output_type": "execute_result"
    }
   ],
   "source": [
    "cv.best_params_"
   ]
  },
  {
   "cell_type": "code",
   "execution_count": 32,
   "metadata": {},
   "outputs": [],
   "source": [
    "test[\"predict\"] = cv.predict(Xtest)\n",
    "\n",
    "num = 100\n",
    "\n",
    "test[\"rnk\"] = test.groupby(\"date\").predict.rank(method=\"first\", ascending=False)\n",
    "best = test[test.rnk<=num]\n",
    "test[\"rnk\"] = test.groupby(\"date\").predict.rank(method=\"first\")\n",
    "worst = test[test.rnk<=num]\n",
    "\n",
    "best_rets = best.groupby(\"date\").ret.mean()\n",
    "worst_rets = worst.groupby(\"date\").ret.mean()\n",
    "rets = pd.concat((best_rets, worst_rets), axis=1)\n",
    "rets.columns = [\"best\", \"worst\"]"
   ]
  },
  {
   "cell_type": "code",
   "execution_count": 29,
   "metadata": {},
   "outputs": [
    {
     "data": {
      "text/plain": [
       "best     0.010424\n",
       "worst    0.008354\n",
       "dtype: float64"
      ]
     },
     "execution_count": 29,
     "metadata": {},
     "output_type": "execute_result"
    }
   ],
   "source": [
    "rets.mean()"
   ]
  }
 ],
 "metadata": {
  "kernelspec": {
   "display_name": "Python 3",
   "language": "python",
   "name": "python3"
  },
  "language_info": {
   "codemirror_mode": {
    "name": "ipython",
    "version": 3
   },
   "file_extension": ".py",
   "mimetype": "text/x-python",
   "name": "python",
   "nbconvert_exporter": "python",
   "pygments_lexer": "ipython3",
   "version": "3.10.8 (tags/v3.10.8:aaaf517, Oct 11 2022, 16:50:30) [MSC v.1933 64 bit (AMD64)]"
  },
  "orig_nbformat": 4,
  "vscode": {
   "interpreter": {
    "hash": "a98f34b6005ae2330f135078450db511ef8910ecc790235ef0560aa88aa6ce12"
   }
  }
 },
 "nbformat": 4,
 "nbformat_minor": 2
}
